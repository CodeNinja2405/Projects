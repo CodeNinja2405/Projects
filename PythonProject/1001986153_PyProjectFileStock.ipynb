{
 "cells": [
  {
   "cell_type": "code",
   "execution_count": 1,
   "id": "be4aa1e8",
   "metadata": {
    "pycharm": {
     "name": "#%%\n"
    }
   },
   "outputs": [],
   "source": [
    "import pandas as pd\n",
    "import numpy as np\n",
    "from sklearn.preprocessing import MinMaxScaler\n",
    "from tensorflow.keras.models import Sequential\n",
    "from tensorflow.keras.layers import Dense\n",
    "from tensorflow.keras.layers import LSTM\n",
    "import tensorflow as tf\n",
    "import matplotlib.pyplot as plt"
   ]
  },
  {
   "cell_type": "markdown",
   "source": [
    "# You can download the CSV file from the below link\n",
    "\n",
    "https://mavsuta-my.sharepoint.com/:x:/r/personal/ixm6153_mavs_uta_edu/Documents/AAPL.csv?d=w0cebc6360f424376b13fcd93b2e642c5&csf=1&web=1&e=lazktz\n",
    "\n",
    "\n",
    "# Download the CSV file and place it in the same directory of the code and execute the code"
   ],
   "metadata": {
    "collapsed": false,
    "pycharm": {
     "name": "#%% md\n"
    }
   }
  },
  {
   "cell_type": "code",
   "execution_count": 2,
   "id": "431e3936",
   "metadata": {
    "pycharm": {
     "name": "#%%\n"
    }
   },
   "outputs": [],
   "source": [
    "fname=input(\"Enter the company name: \")"
   ]
  },
  {
   "cell_type": "code",
   "execution_count": 3,
   "id": "0af131ff",
   "metadata": {
    "pycharm": {
     "name": "#%%\n"
    }
   },
   "outputs": [
    {
     "name": "stdout",
     "output_type": "stream",
     "text": [
      "         Date      Open      High       Low     Close  Adj Close     Volume\n",
      "0  1980-12-12  0.128348  0.128906  0.128348  0.128348   0.099722  469033600\n",
      "1  1980-12-15  0.122210  0.122210  0.121652  0.121652   0.094519  175884800\n",
      "2  1980-12-16  0.113281  0.113281  0.112723  0.112723   0.087582  105728000\n",
      "3  1980-12-17  0.115513  0.116071  0.115513  0.115513   0.089749   86441600\n",
      "4  1980-12-18  0.118862  0.119420  0.118862  0.118862   0.092351   73449600\n",
      "             Date        Open        High         Low       Close   Adj Close  \\\n",
      "10668  2023-04-06  162.429993  164.960007  162.000000  164.660004  164.660004   \n",
      "10669  2023-04-10  161.419998  162.029999  160.080002  162.029999  162.029999   \n",
      "10670  2023-04-11  162.350006  162.360001  160.509995  160.800003  160.800003   \n",
      "10671  2023-04-12  161.220001  162.059998  159.779999  160.100006  160.100006   \n",
      "10672  2023-04-13  161.630005  165.800003  161.419998  165.559998  165.559998   \n",
      "\n",
      "         Volume  \n",
      "10668  45390100  \n",
      "10669  47716900  \n",
      "10670  47644200  \n",
      "10671  50133100  \n",
      "10672  68445600  \n"
     ]
    }
   ],
   "source": [
    "data_set=pd.read_csv(fname) # Converting the File into dataframe\n",
    "print(data_set.head(5)) #printing the first 5 values of File\n",
    "print(data_set.tail(5)) #printing the last 5 values of File"
   ]
  },
  {
   "cell_type": "code",
   "execution_count": 4,
   "id": "13886564",
   "metadata": {
    "pycharm": {
     "name": "#%%\n"
    }
   },
   "outputs": [
    {
     "data": {
      "text/plain": "0          0.128348\n1          0.121652\n2          0.112723\n3          0.115513\n4          0.118862\n            ...    \n10668    164.660004\n10669    162.029999\n10670    160.800003\n10671    160.100006\n10672    165.559998\nName: Close, Length: 10673, dtype: float64"
     },
     "execution_count": 4,
     "metadata": {},
     "output_type": "execute_result"
    }
   ],
   "source": [
    "data_set_close=data_set.reset_index()['Close'] # Here we are selecting only Closing values\n",
    "data_set_close #printing the closed value dataframe"
   ]
  },
  {
   "cell_type": "code",
   "execution_count": 5,
   "outputs": [
    {
     "data": {
      "text/plain": "[<matplotlib.lines.Line2D at 0x1a5d639d5d0>]"
     },
     "execution_count": 5,
     "metadata": {},
     "output_type": "execute_result"
    },
    {
     "data": {
      "text/plain": "<Figure size 640x480 with 1 Axes>",
      "image/png": "[encoded data removed]"
     },
     "metadata": {},
     "output_type": "display_data"
    }
   ],
   "source": [
    "plt.plot(data_set_close) #plotting the close dataset value"
   ],
   "metadata": {
    "collapsed": false,
    "pycharm": {
     "name": "#%%\n"
    }
   }
  },
  {
   "cell_type": "code",
   "execution_count": 6,
   "id": "69a57ce2",
   "metadata": {
    "pycharm": {
     "name": "#%%\n"
    }
   },
   "outputs": [],
   "source": [
    "#Using the Min Max Scaler with range of 0 to 1 in preprocessing\n",
    "scaler=MinMaxScaler(feature_range=(0,1))\n",
    "##Fitting the minmaxscaler to the close value dataset and reshaping\n",
    "data_set_close=scaler.fit_transform(np.array(data_set_close).reshape(-1,1))"
   ]
  },
  {
   "cell_type": "code",
   "execution_count": 7,
   "id": "19ede774",
   "metadata": {
    "pycharm": {
     "name": "#%%\n"
    }
   },
   "outputs": [
    {
     "name": "stdout",
     "output_type": "stream",
     "text": [
      "[[4.35483696e-04]\n",
      " [3.98684579e-04]\n",
      " [3.49613594e-04]\n",
      " ...\n",
      " [8.83436533e-01]\n",
      " [8.79589569e-01]\n",
      " [9.09595973e-01]]\n"
     ]
    }
   ],
   "source": [
    "print(data_set_close)"
   ]
  },
  {
   "cell_type": "code",
   "execution_count": 8,
   "id": "5780e6df",
   "metadata": {
    "pycharm": {
     "name": "#%%\n"
    }
   },
   "outputs": [],
   "source": [
    "# Splitting Close value dataset into train and test\n",
    "training_set_size=int(len(data_set_close)*0.65) # Converting the dataset values into training and testing as 65:35\n",
    "test_set_size=len(data_set_close)-training_set_size # 35% as testing\n",
    "train_ValSet, test_ValSet= np.array(data_set_close[0:training_set_size, :]), np.array(data_set_close[training_set_size:len(data_set_close), :1]) #Inserting the values into Training and Testing Datasets"
   ]
  },
  {
   "cell_type": "code",
   "execution_count": 9,
   "id": "f681a470",
   "metadata": {
    "pycharm": {
     "name": "#%%\n"
    }
   },
   "outputs": [
    {
     "data": {
      "text/plain": "(6937, 3736)"
     },
     "execution_count": 9,
     "metadata": {},
     "output_type": "execute_result"
    }
   ],
   "source": [
    "training_set_size,test_set_size # Trainig and Testing size"
   ]
  },
  {
   "cell_type": "code",
   "execution_count": 10,
   "id": "298a5e5c",
   "metadata": {
    "pycharm": {
     "name": "#%%\n"
    }
   },
   "outputs": [
    {
     "name": "stdout",
     "output_type": "stream",
     "text": [
      "[[0.00043548]\n",
      " [0.00039868]\n",
      " [0.00034961]\n",
      " ...\n",
      " [0.03616652]\n",
      " [0.03537554]\n",
      " [0.03616652]]\n"
     ]
    }
   ],
   "source": [
    "print(train_ValSet)"
   ]
  },
  {
   "cell_type": "code",
   "execution_count": 11,
   "outputs": [],
   "source": [
    "# convert the dataset values into a dataset matrix\n",
    "def create_dataset(current_dataset, time_step_val=1):\n",
    "    X_value, Y_value = [], [] # Lists to store input and output values\n",
    "\n",
    "     # Iterate over the dataset\n",
    "    for i in range(len(current_dataset) - time_step_val - 1):\n",
    "        a = current_dataset[i:(i + time_step_val), 0]  # Extract input sequence from dataset\n",
    "        X_value.append(a) # Append input sequence to X_value list\n",
    "        Y_value.append(current_dataset[i + time_step_val, 0]) # Append next value as output to Y_value list\n",
    "\n",
    "    return np.array(X_value), np.array(Y_value) # Return input and output values as numpy arrays\n"
   ],
   "metadata": {
    "collapsed": false,
    "pycharm": {
     "name": "#%%\n"
    }
   }
  },
  {
   "cell_type": "code",
   "execution_count": 12,
   "id": "4a453661",
   "metadata": {
    "pycharm": {
     "name": "#%%\n"
    }
   },
   "outputs": [
    {
     "name": "stdout",
     "output_type": "stream",
     "text": [
      "[[0.00043548 0.00039868 0.00034961 ... 0.00042322 0.00042015 0.00040175]\n",
      " [0.00039868 0.00034961 0.00036495 ... 0.00042015 0.00040175 0.00041095]\n",
      " [0.00034961 0.00036495 0.00038335 ... 0.00040175 0.00041095 0.00041708]\n",
      " ...\n",
      " [0.03362477 0.03482008 0.03290837 ... 0.03625681 0.03611353 0.0360782 ]\n",
      " [0.03482008 0.03290837 0.03106339 ... 0.03611353 0.0360782  0.0369104 ]\n",
      " [0.03290837 0.03106339 0.03130873 ... 0.0360782  0.0369104  0.03616652]]\n"
     ]
    }
   ],
   "source": [
    "\n",
    "time_step = 100  # Set the time step value for creating the dataset\n",
    "\n",
    "# Create training dataset\n",
    "X_train, y_train = create_dataset(train_ValSet, time_step)\n",
    "# Here, train_ValSet is the input dataset for training\n",
    "# The function create_dataset is called to create input sequences (X_train) and corresponding output values (y_train)\n",
    "\n",
    "# Create testing dataset\n",
    "X_test, y_test = create_dataset(test_ValSet, time_step)\n",
    "# Here, test_ValSet is the input dataset for testing\n",
    "# The function create_dataset is called to create input sequences (X_test) and corresponding output values (y_test)\n",
    "\n",
    "\n",
    "#----------------\n",
    "# Print the training data\n",
    "print(X_train)\n",
    "# Display the training data, which represents the input sequences for training"
   ]
  },
  {
   "cell_type": "code",
   "execution_count": 13,
   "id": "eff8a670",
   "metadata": {
    "pycharm": {
     "name": "#%%\n"
    }
   },
   "outputs": [
    {
     "name": "stdout",
     "output_type": "stream",
     "text": [
      "(6836, 100)\n",
      "(6836,)\n",
      "(3635, 100)\n",
      "(3635,)\n"
     ]
    },
    {
     "data": {
      "text/plain": "(None, None)"
     },
     "execution_count": 13,
     "metadata": {},
     "output_type": "execute_result"
    }
   ],
   "source": [
    "\n",
    "\n",
    "# Print the shapes of training data and corresponding output\n",
    "print(X_train.shape), print(y_train.shape)\n",
    "# Display the shape of X_train, which represents the dimensions of the input sequences for training\n",
    "# Display the shape of y_train, which represents the dimensions of the corresponding output values for training\n",
    "\n",
    "# Print the shapes of testing data and corresponding output\n",
    "print(X_test.shape), print(y_test.shape)\n",
    "# Display the shape of X_test, which represents the dimensions of the input sequences for testing\n",
    "# Display the shape of y_test, which represents the dimensions of the corresponding output values for testing\n"
   ]
  },
  {
   "cell_type": "code",
   "execution_count": 14,
   "id": "d499c278",
   "metadata": {
    "pycharm": {
     "name": "#%%\n"
    }
   },
   "outputs": [],
   "source": [
    "# Reshape the training data\n",
    "X_train = X_train.reshape(X_train.shape[0], X_train.shape[1], 1)\n",
    "# Here, X_train is reshaped to have dimensions [number of samples, time steps, features]\n",
    "# The third dimension (1) indicates that there is only one feature in the input data\n",
    "\n",
    "# Reshape the testing data\n",
    "X_test = X_test.reshape(X_test.shape[0], X_test.shape[1], 1)\n",
    "# Here, X_test is reshaped to have dimensions [number of samples, time steps, features]\n",
    "# The third dimension (1) indicates that there is only one feature in the input data\n"
   ]
  },
  {
   "cell_type": "code",
   "execution_count": 15,
   "id": "31033606",
   "metadata": {
    "pycharm": {
     "name": "#%%\n"
    }
   },
   "outputs": [],
   "source": [
    "# Stacked LSTM model\n",
    "\n",
    "# Create a sequential model\n",
    "model = Sequential()\n",
    "\n",
    "# Add LSTM layers to the model\n",
    "model.add(LSTM(50, return_sequences=True, input_shape=(100, 1)))\n",
    "# Add the first LSTM layer with 50 units, returning sequences, and specifying the input shape\n",
    "# The input shape is (100, 1), representing 100 time steps and 1 feature\n",
    "\n",
    "model.add(LSTM(50, return_sequences=True))\n",
    "# Add the second LSTM layer with 50 units, returning sequences\n",
    "# This layer does not require specifying the input shape since it automatically takes the output shape from the previous layer\n",
    "\n",
    "model.add(LSTM(50))\n",
    "# Add the third LSTM layer with 50 units\n",
    "# This layer does not return sequences, as it is the final LSTM layer in the model\n",
    "\n",
    "# Add a Dense layer for the output\n",
    "model.add(Dense(1))\n",
    "# Add a Dense layer with 1 unit, which will be the output layer\n",
    "\n",
    "# Compile the model\n",
    "model.compile(loss='mean_squared_error', optimizer='adam')\n",
    "# Compile the model with mean squared error as the loss function and Adam optimizer\n"
   ]
  },
  {
   "cell_type": "code",
   "execution_count": 16,
   "id": "bbf9e601",
   "metadata": {
    "pycharm": {
     "name": "#%%\n"
    }
   },
   "outputs": [
    {
     "name": "stdout",
     "output_type": "stream",
     "text": [
      "Model: \"sequential\"\n",
      "_________________________________________________________________\n",
      " Layer (type)                Output Shape              Param #   \n",
      "=================================================================\n",
      " lstm (LSTM)                 (None, 100, 50)           10400     \n",
      "                                                                 \n",
      " lstm_1 (LSTM)               (None, 100, 50)           20200     \n",
      "                                                                 \n",
      " lstm_2 (LSTM)               (None, 50)                20200     \n",
      "                                                                 \n",
      " dense (Dense)               (None, 1)                 51        \n",
      "                                                                 \n",
      "=================================================================\n",
      "Total params: 50,851\n",
      "Trainable params: 50,851\n",
      "Non-trainable params: 0\n",
      "_________________________________________________________________\n"
     ]
    }
   ],
   "source": [
    "# Print the summary of the model\n",
    "model.summary()\n",
    "# Display a summary of the model architecture, including the layers, number of parameters, and output shapes\n"
   ]
  },
  {
   "cell_type": "code",
   "execution_count": 17,
   "id": "fdf40799",
   "metadata": {
    "pycharm": {
     "name": "#%%\n"
    }
   },
   "outputs": [
    {
     "name": "stdout",
     "output_type": "stream",
     "text": [
      "Epoch 1/10\n",
      "107/107 [==============================] - 24s 166ms/step - loss: 1.8995e-05 - val_loss: 0.0144\n",
      "Epoch 2/10\n",
      "107/107 [==============================] - 19s 182ms/step - loss: 5.5907e-07 - val_loss: 0.0097\n",
      "Epoch 3/10\n",
      "107/107 [==============================] - 16s 146ms/step - loss: 6.4598e-07 - val_loss: 0.0087\n",
      "Epoch 4/10\n",
      "107/107 [==============================] - 15s 140ms/step - loss: 6.7790e-07 - val_loss: 0.0079\n",
      "Epoch 5/10\n",
      "107/107 [==============================] - 15s 141ms/step - loss: 5.9110e-07 - val_loss: 0.0069\n",
      "Epoch 6/10\n",
      "107/107 [==============================] - 15s 140ms/step - loss: 6.6529e-07 - val_loss: 0.0057\n",
      "Epoch 7/10\n",
      "107/107 [==============================] - 16s 146ms/step - loss: 4.9314e-07 - val_loss: 0.0054\n",
      "Epoch 8/10\n",
      "107/107 [==============================] - 19s 175ms/step - loss: 4.2767e-07 - val_loss: 0.0039\n",
      "Epoch 9/10\n",
      "107/107 [==============================] - 22s 210ms/step - loss: 5.4718e-07 - val_loss: 0.0052\n",
      "Epoch 10/10\n",
      "107/107 [==============================] - 19s 181ms/step - loss: 4.9132e-07 - val_loss: 0.0072\n"
     ]
    },
    {
     "data": {
      "text/plain": "<keras.callbacks.History at 0x1a5d909af20>"
     },
     "execution_count": 17,
     "metadata": {},
     "output_type": "execute_result"
    }
   ],
   "source": [
    "# Train the model\n",
    "model.fit(X_train, y_train, validation_data=(X_test, y_test), epochs=10, batch_size=64, verbose=1)\n",
    "# Train the model using the training data (X_train, y_train)\n",
    "# Use the testing data (X_test, y_test) for validation during training\n",
    "# Perform 10 epochs (complete passes through the training data)\n",
    "# Use a batch size of 64 samples per batch\n",
    "# Set verbose=1 to display progress updates during training\n"
   ]
  },
  {
   "cell_type": "code",
   "execution_count": 18,
   "id": "a69a3d4e",
   "metadata": {
    "pycharm": {
     "name": "#%%\n"
    }
   },
   "outputs": [
    {
     "name": "stdout",
     "output_type": "stream",
     "text": [
      "214/214 [==============================] - 10s 37ms/step\n",
      "114/114 [==============================] - 4s 35ms/step\n"
     ]
    }
   ],
   "source": [
    "# Generate predictions on the training data\n",
    "train_predict = model.predict(X_train)\n",
    "# Use the trained model (model) to make predictions on the input training data (X_train)\n",
    "# The predictions for the training data are stored in the train_predict variable\n",
    "\n",
    "# Generate predictions on the testing data\n",
    "test_predict = model.predict(X_test)\n",
    "# Use the trained model (model) to make predictions on the input testing data (X_test)\n",
    "# The predictions for the testing data are stored in the test_predict variable\n"
   ]
  },
  {
   "cell_type": "code",
   "execution_count": 19,
   "id": "8b8d7062",
   "metadata": {
    "pycharm": {
     "name": "#%%\n"
    }
   },
   "outputs": [],
   "source": [
    "# Inverse transform the predicted values to their original scale\n",
    "train_predict = scaler.inverse_transform(train_predict)\n",
    "# Use the scaler's inverse_transform method to convert the scaled training predictions back to the original scale\n",
    "\n",
    "test_predict = scaler.inverse_transform(test_predict)\n",
    "# Use the scaler's inverse_transform method to convert the scaled testing predictions back to the original scale\n"
   ]
  },
  {
   "cell_type": "code",
   "execution_count": 20,
   "id": "8d7d64b5",
   "metadata": {
    "pycharm": {
     "name": "#%%\n"
    }
   },
   "outputs": [
    {
     "name": "stdout",
     "output_type": "stream",
     "text": [
      "RMSE of training data: 1.2252882279936783\n",
      "RMSE of testing data: 54.41564536087678\n"
     ]
    }
   ],
   "source": [
    "import math\n",
    "from sklearn.metrics import mean_squared_error\n",
    "\n",
    "# Calculate and print the root mean squared error (RMSE) of the training data\n",
    "print(\"RMSE of training data:\", math.sqrt(mean_squared_error(y_train, train_predict)))\n",
    "# The mean_squared_error function from sklearn.metrics calculates the mean squared error between the true output (y_train) and the predicted output (train_predict)\n",
    "# The math.sqrt function is used to take the square root of the mean squared error, resulting in the root mean squared error (RMSE)\n",
    "# The RMSE of the training data is printed to the console\n",
    "\n",
    "# Calculate and print the root mean squared error (RMSE) of the testing data\n",
    "print(\"RMSE of testing data:\", math.sqrt(mean_squared_error(y_test, test_predict)))\n",
    "# The mean_squared_error function from sklearn.metrics calculates the mean squared error between the true output (y_test) and the predicted output (test_predict)\n",
    "# The math.sqrt function is used to take the square root of the mean squared error, resulting in the root mean squared error (RMSE)\n",
    "# The RMSE of the testing data is printed to the console\n"
   ]
  },
  {
   "cell_type": "code",
   "execution_count": 21,
   "id": "0554c59e",
   "metadata": {
    "pycharm": {
     "name": "#%%\n"
    }
   },
   "outputs": [
    {
     "data": {
      "text/plain": "<Figure size 640x480 with 1 Axes>",
      "image/png": "[encoded data removed]"
     },
     "metadata": {},
     "output_type": "display_data"
    }
   ],
   "source": [
    "# Plotting\n",
    "Previous_Time_Stamp = 100  # Number of previous time steps to consider\n",
    "\n",
    "# Create empty arrays for train_data and test_data with the same shape as data_set_close\n",
    "plot_train_data = np.empty_like(data_set_close)\n",
    "plot_test_data = np.empty_like(data_set_close)\n",
    "\n",
    "# Fill train_data array with NaN values\n",
    "plot_train_data[:, :] = np.nan\n",
    "# Set the values of train_data from look_back to len(train_predict)+look_back as the predicted values from training\n",
    "plot_train_data[Previous_Time_Stamp:len(train_predict) + Previous_Time_Stamp, :] = train_predict\n",
    "\n",
    "# Fill test_data array with NaN values\n",
    "plot_test_data[:, :] = np.nan\n",
    "# Set the values of test_data from len(train_predict)+(look_back*2)+1 to len(data_set_close)-1\n",
    "# as the predicted values from testing\n",
    "plot_test_data[len(train_predict) + (Previous_Time_Stamp * 2) + 1:len(data_set_close) - 1, :] = test_predict\n",
    "\n",
    "# Plot the actual values, predicted values on training data, and predicted values on testing data\n",
    "plt.plot(scaler.inverse_transform(data_set_close), label=\"The actual value\", color=\"red\")\n",
    "# Plot the actual values (data_set_close) after inverting the scaling transformation\n",
    "\n",
    "plt.plot(plot_train_data, label=\"Prediction on training data\", color=\"blue\")\n",
    "# Plot the predicted values on training data (train_data)\n",
    "\n",
    "plt.plot(plot_test_data, label=\"Prediction on testing data\", color=\"gold\")\n",
    "# Plot the predicted values on testing data (test_data)\n",
    "\n",
    "plt.legend()  # Display the legend\n",
    "plt.grid()  # Add grid lines to the plot\n",
    "plt.show()  # Show the plot\n"
   ]
  },
  {
   "cell_type": "code",
   "execution_count": 22,
   "id": "4404941d",
   "metadata": {
    "pycharm": {
     "name": "#%%\n"
    }
   },
   "outputs": [
    {
     "name": "stdout",
     "output_type": "stream",
     "text": [
      "3736\n"
     ]
    },
    {
     "data": {
      "text/plain": "(1, 100)"
     },
     "execution_count": 22,
     "metadata": {},
     "output_type": "execute_result"
    }
   ],
   "source": [
    "# Print the length of the test_ValSet\n",
    "print(len(test_ValSet))\n",
    "# Display the length (number of elements) in the test_ValSet dataset\n",
    "\n",
    "# Reshape the portion of test_ValSet for prediction\n",
    "plot_x_input = test_ValSet[3636:].reshape(1, -1)\n",
    "# Extract a portion of test_ValSet starting from index 117 until the end\n",
    "# Reshape the extracted portion to have dimensions (1, -1), where the first dimension represents a single sample\n",
    "# The -1 in the reshape operation is used to infer the size of the second dimension based on the length of the extracted portion\n",
    "\n",
    "plot_x_input.shape\n",
    "# Display the shape of the reshaped input data (x_input)\n"
   ]
  },
  {
   "cell_type": "code",
   "execution_count": 23,
   "id": "7b76ce38",
   "metadata": {
    "pycharm": {
     "name": "#%%\n"
    }
   },
   "outputs": [
    {
     "data": {
      "text/plain": "[0.8280400016513438,\n 0.8311724990042915,\n 0.8131466581983267,\n 0.8250722869631192,\n 0.8299635249087155,\n 0.8136962598248036,\n 0.7923180392480828,\n 0.7755561788641083,\n 0.8132565939115443,\n 0.8147953806424598,\n 0.8120475373806705,\n 0.8055626657526533,\n 0.7851187063892542,\n 0.7742921929464314,\n 0.7836897729362585,\n 0.7809969414965703,\n 0.793801896592195,\n 0.799187647402556,\n 0.7867674288333874,\n 0.7498913337903692,\n 0.7389548901300151,\n 0.7271941209695568,\n 0.7268094668783985,\n 0.744120846453552,\n 0.7264247303519423,\n 0.724391353816651,\n 0.714334236487129,\n 0.6924064582494233,\n 0.7120260591385991,\n 0.7137846348606519,\n 0.6870756368258655,\n 0.6941650779369685,\n 0.686800836012627,\n 0.7120809830297156,\n 0.7149936913915257,\n 0.7181812005665744,\n 0.7333493448328301,\n 0.7329096844152573,\n 0.7403288117609098,\n 0.7468137603285382,\n 0.7428019366447584,\n 0.7431316613491136,\n 0.7574203968492392,\n 0.7752264541597532,\n 0.7830303180318618,\n 0.7793482190524372,\n 0.7908891937260714,\n 0.80171561923791,\n 0.7856132961936303,\n 0.7927026933392411,\n 0.7989677759761207,\n 0.8285896032778208,\n 0.8488136912147844,\n 0.8335906175617256,\n 0.8496380112192021,\n 0.8346348089925786,\n 0.8288643216557614,\n 0.8296337177690625,\n 0.8452415279485775,\n 0.8416692822470727,\n 0.8533751220207278,\n 0.8444721373309629,\n 0.8380971189808658,\n 0.8157296363600951,\n 0.8180928255307259,\n 0.8207856569704143,\n 0.8060023316659126,\n 0.8126520628982641,\n 0.809849295745358,\n 0.7983083210717239,\n 0.8016057659599901,\n 0.8297436534822802,\n 0.8451315922353599,\n 0.8328762332705256,\n 0.8398556947029187,\n 0.8273255349248461,\n 0.8158395720733127,\n 0.8266660800204492,\n 0.8383169079720033,\n 0.8405152320426134,\n 0.8562329009957348,\n 0.8515615344765738,\n 0.8647511491590433,\n 0.8750830673018039,\n 0.8671143383296744,\n 0.8731595440444321,\n 0.8804138887253616,\n 0.8695873807782252,\n 0.866125070789938,\n 0.8832716677003686,\n 0.8920097927857991,\n 0.905968798085883,\n 0.912948341953574,\n 0.9099807097006473,\n 0.89970372094469,\n 0.9046498882770894,\n 0.890196205241645,\n 0.8834365328003895,\n 0.879589568720944,\n 0.909595973174191]"
     },
     "execution_count": 23,
     "metadata": {},
     "output_type": "execute_result"
    }
   ],
   "source": [
    "# Convert x_input to a list\n",
    "temp_array = list(plot_x_input)\n",
    "# Convert the array x_input to a Python list\n",
    "\n",
    "# Convert the first element of temp_array to a list\n",
    "temp_array = temp_array[0].tolist()\n",
    "# Select the first element of temp_array (which is a list) and convert it to a Python list\n",
    "\n",
    "temp_array\n",
    "# Display the value of temp_array\n"
   ]
  },
  {
   "cell_type": "code",
   "execution_count": 24,
   "id": "07d2e5a9",
   "metadata": {
    "pycharm": {
     "name": "#%%\n"
    }
   },
   "outputs": [
    {
     "name": "stdout",
     "output_type": "stream",
     "text": [
      "[0.66310394]\n",
      "101\n",
      "1 day input [0.8311725  0.81314666 0.82507229 0.82996352 0.81369626 0.79231804\n",
      " 0.77555618 0.81325659 0.81479538 0.81204754 0.80556267 0.78511871\n",
      " 0.77429219 0.78368977 0.78099694 0.7938019  0.79918765 0.78676743\n",
      " 0.74989133 0.73895489 0.72719412 0.72680947 0.74412085 0.72642473\n",
      " 0.72439135 0.71433424 0.69240646 0.71202606 0.71378463 0.68707564\n",
      " 0.69416508 0.68680084 0.71208098 0.71499369 0.7181812  0.73334934\n",
      " 0.73290968 0.74032881 0.74681376 0.74280194 0.74313166 0.7574204\n",
      " 0.77522645 0.78303032 0.77934822 0.79088919 0.80171562 0.7856133\n",
      " 0.79270269 0.79896778 0.8285896  0.84881369 0.83359062 0.84963801\n",
      " 0.83463481 0.82886432 0.82963372 0.84524153 0.84166928 0.85337512\n",
      " 0.84447214 0.83809712 0.81572964 0.81809283 0.82078566 0.80600233\n",
      " 0.81265206 0.8098493  0.79830832 0.80160577 0.82974365 0.84513159\n",
      " 0.83287623 0.83985569 0.82732553 0.81583957 0.82666608 0.83831691\n",
      " 0.84051523 0.8562329  0.85156153 0.86475115 0.87508307 0.86711434\n",
      " 0.87315954 0.88041389 0.86958738 0.86612507 0.88327167 0.89200979\n",
      " 0.9059688  0.91294834 0.90998071 0.89970372 0.90464989 0.89019621\n",
      " 0.88343653 0.87958957 0.90959597 0.66310394]\n",
      "1 day output [[0.6612767]]\n",
      "2 day input [0.81314666 0.82507229 0.82996352 0.81369626 0.79231804 0.77555618\n",
      " 0.81325659 0.81479538 0.81204754 0.80556267 0.78511871 0.77429219\n",
      " 0.78368977 0.78099694 0.7938019  0.79918765 0.78676743 0.74989133\n",
      " 0.73895489 0.72719412 0.72680947 0.74412085 0.72642473 0.72439135\n",
      " 0.71433424 0.69240646 0.71202606 0.71378463 0.68707564 0.69416508\n",
      " 0.68680084 0.71208098 0.71499369 0.7181812  0.73334934 0.73290968\n",
      " 0.74032881 0.74681376 0.74280194 0.74313166 0.7574204  0.77522645\n",
      " 0.78303032 0.77934822 0.79088919 0.80171562 0.7856133  0.79270269\n",
      " 0.79896778 0.8285896  0.84881369 0.83359062 0.84963801 0.83463481\n",
      " 0.82886432 0.82963372 0.84524153 0.84166928 0.85337512 0.84447214\n",
      " 0.83809712 0.81572964 0.81809283 0.82078566 0.80600233 0.81265206\n",
      " 0.8098493  0.79830832 0.80160577 0.82974365 0.84513159 0.83287623\n",
      " 0.83985569 0.82732553 0.81583957 0.82666608 0.83831691 0.84051523\n",
      " 0.8562329  0.85156153 0.86475115 0.87508307 0.86711434 0.87315954\n",
      " 0.88041389 0.86958738 0.86612507 0.88327167 0.89200979 0.9059688\n",
      " 0.91294834 0.90998071 0.89970372 0.90464989 0.89019621 0.88343653\n",
      " 0.87958957 0.90959597 0.66310394 0.6612767 ]\n",
      "2 day output [[0.65631384]]\n",
      "3 day input [0.82507229 0.82996352 0.81369626 0.79231804 0.77555618 0.81325659\n",
      " 0.81479538 0.81204754 0.80556267 0.78511871 0.77429219 0.78368977\n",
      " 0.78099694 0.7938019  0.79918765 0.78676743 0.74989133 0.73895489\n",
      " 0.72719412 0.72680947 0.74412085 0.72642473 0.72439135 0.71433424\n",
      " 0.69240646 0.71202606 0.71378463 0.68707564 0.69416508 0.68680084\n",
      " 0.71208098 0.71499369 0.7181812  0.73334934 0.73290968 0.74032881\n",
      " 0.74681376 0.74280194 0.74313166 0.7574204  0.77522645 0.78303032\n",
      " 0.77934822 0.79088919 0.80171562 0.7856133  0.79270269 0.79896778\n",
      " 0.8285896  0.84881369 0.83359062 0.84963801 0.83463481 0.82886432\n",
      " 0.82963372 0.84524153 0.84166928 0.85337512 0.84447214 0.83809712\n",
      " 0.81572964 0.81809283 0.82078566 0.80600233 0.81265206 0.8098493\n",
      " 0.79830832 0.80160577 0.82974365 0.84513159 0.83287623 0.83985569\n",
      " 0.82732553 0.81583957 0.82666608 0.83831691 0.84051523 0.8562329\n",
      " 0.85156153 0.86475115 0.87508307 0.86711434 0.87315954 0.88041389\n",
      " 0.86958738 0.86612507 0.88327167 0.89200979 0.9059688  0.91294834\n",
      " 0.90998071 0.89970372 0.90464989 0.89019621 0.88343653 0.87958957\n",
      " 0.90959597 0.66310394 0.6612767  0.65631384]\n",
      "3 day output [[0.64836514]]\n",
      "4 day input [0.82996352 0.81369626 0.79231804 0.77555618 0.81325659 0.81479538\n",
      " 0.81204754 0.80556267 0.78511871 0.77429219 0.78368977 0.78099694\n",
      " 0.7938019  0.79918765 0.78676743 0.74989133 0.73895489 0.72719412\n",
      " 0.72680947 0.74412085 0.72642473 0.72439135 0.71433424 0.69240646\n",
      " 0.71202606 0.71378463 0.68707564 0.69416508 0.68680084 0.71208098\n",
      " 0.71499369 0.7181812  0.73334934 0.73290968 0.74032881 0.74681376\n",
      " 0.74280194 0.74313166 0.7574204  0.77522645 0.78303032 0.77934822\n",
      " 0.79088919 0.80171562 0.7856133  0.79270269 0.79896778 0.8285896\n",
      " 0.84881369 0.83359062 0.84963801 0.83463481 0.82886432 0.82963372\n",
      " 0.84524153 0.84166928 0.85337512 0.84447214 0.83809712 0.81572964\n",
      " 0.81809283 0.82078566 0.80600233 0.81265206 0.8098493  0.79830832\n",
      " 0.80160577 0.82974365 0.84513159 0.83287623 0.83985569 0.82732553\n",
      " 0.81583957 0.82666608 0.83831691 0.84051523 0.8562329  0.85156153\n",
      " 0.86475115 0.87508307 0.86711434 0.87315954 0.88041389 0.86958738\n",
      " 0.86612507 0.88327167 0.89200979 0.9059688  0.91294834 0.90998071\n",
      " 0.89970372 0.90464989 0.89019621 0.88343653 0.87958957 0.90959597\n",
      " 0.66310394 0.6612767  0.65631384 0.64836514]\n",
      "4 day output [[0.63793296]]\n",
      "5 day input [0.81369626 0.79231804 0.77555618 0.81325659 0.81479538 0.81204754\n",
      " 0.80556267 0.78511871 0.77429219 0.78368977 0.78099694 0.7938019\n",
      " 0.79918765 0.78676743 0.74989133 0.73895489 0.72719412 0.72680947\n",
      " 0.74412085 0.72642473 0.72439135 0.71433424 0.69240646 0.71202606\n",
      " 0.71378463 0.68707564 0.69416508 0.68680084 0.71208098 0.71499369\n",
      " 0.7181812  0.73334934 0.73290968 0.74032881 0.74681376 0.74280194\n",
      " 0.74313166 0.7574204  0.77522645 0.78303032 0.77934822 0.79088919\n",
      " 0.80171562 0.7856133  0.79270269 0.79896778 0.8285896  0.84881369\n",
      " 0.83359062 0.84963801 0.83463481 0.82886432 0.82963372 0.84524153\n",
      " 0.84166928 0.85337512 0.84447214 0.83809712 0.81572964 0.81809283\n",
      " 0.82078566 0.80600233 0.81265206 0.8098493  0.79830832 0.80160577\n",
      " 0.82974365 0.84513159 0.83287623 0.83985569 0.82732553 0.81583957\n",
      " 0.82666608 0.83831691 0.84051523 0.8562329  0.85156153 0.86475115\n",
      " 0.87508307 0.86711434 0.87315954 0.88041389 0.86958738 0.86612507\n",
      " 0.88327167 0.89200979 0.9059688  0.91294834 0.90998071 0.89970372\n",
      " 0.90464989 0.89019621 0.88343653 0.87958957 0.90959597 0.66310394\n",
      " 0.6612767  0.65631384 0.64836514 0.63793296]\n",
      "5 day output [[0.6256347]]\n",
      "6 day input [0.79231804 0.77555618 0.81325659 0.81479538 0.81204754 0.80556267\n",
      " 0.78511871 0.77429219 0.78368977 0.78099694 0.7938019  0.79918765\n",
      " 0.78676743 0.74989133 0.73895489 0.72719412 0.72680947 0.74412085\n",
      " 0.72642473 0.72439135 0.71433424 0.69240646 0.71202606 0.71378463\n",
      " 0.68707564 0.69416508 0.68680084 0.71208098 0.71499369 0.7181812\n",
      " 0.73334934 0.73290968 0.74032881 0.74681376 0.74280194 0.74313166\n",
      " 0.7574204  0.77522645 0.78303032 0.77934822 0.79088919 0.80171562\n",
      " 0.7856133  0.79270269 0.79896778 0.8285896  0.84881369 0.83359062\n",
      " 0.84963801 0.83463481 0.82886432 0.82963372 0.84524153 0.84166928\n",
      " 0.85337512 0.84447214 0.83809712 0.81572964 0.81809283 0.82078566\n",
      " 0.80600233 0.81265206 0.8098493  0.79830832 0.80160577 0.82974365\n",
      " 0.84513159 0.83287623 0.83985569 0.82732553 0.81583957 0.82666608\n",
      " 0.83831691 0.84051523 0.8562329  0.85156153 0.86475115 0.87508307\n",
      " 0.86711434 0.87315954 0.88041389 0.86958738 0.86612507 0.88327167\n",
      " 0.89200979 0.9059688  0.91294834 0.90998071 0.89970372 0.90464989\n",
      " 0.89019621 0.88343653 0.87958957 0.90959597 0.66310394 0.6612767\n",
      " 0.65631384 0.64836514 0.63793296 0.62563467]\n",
      "6 day output [[0.61207074]]\n",
      "7 day input [0.77555618 0.81325659 0.81479538 0.81204754 0.80556267 0.78511871\n",
      " 0.77429219 0.78368977 0.78099694 0.7938019  0.79918765 0.78676743\n",
      " 0.74989133 0.73895489 0.72719412 0.72680947 0.74412085 0.72642473\n",
      " 0.72439135 0.71433424 0.69240646 0.71202606 0.71378463 0.68707564\n",
      " 0.69416508 0.68680084 0.71208098 0.71499369 0.7181812  0.73334934\n",
      " 0.73290968 0.74032881 0.74681376 0.74280194 0.74313166 0.7574204\n",
      " 0.77522645 0.78303032 0.77934822 0.79088919 0.80171562 0.7856133\n",
      " 0.79270269 0.79896778 0.8285896  0.84881369 0.83359062 0.84963801\n",
      " 0.83463481 0.82886432 0.82963372 0.84524153 0.84166928 0.85337512\n",
      " 0.84447214 0.83809712 0.81572964 0.81809283 0.82078566 0.80600233\n",
      " 0.81265206 0.8098493  0.79830832 0.80160577 0.82974365 0.84513159\n",
      " 0.83287623 0.83985569 0.82732553 0.81583957 0.82666608 0.83831691\n",
      " 0.84051523 0.8562329  0.85156153 0.86475115 0.87508307 0.86711434\n",
      " 0.87315954 0.88041389 0.86958738 0.86612507 0.88327167 0.89200979\n",
      " 0.9059688  0.91294834 0.90998071 0.89970372 0.90464989 0.89019621\n",
      " 0.88343653 0.87958957 0.90959597 0.66310394 0.6612767  0.65631384\n",
      " 0.64836514 0.63793296 0.62563467 0.61207074]\n",
      "7 day output [[0.59776026]]\n",
      "8 day input [0.81325659 0.81479538 0.81204754 0.80556267 0.78511871 0.77429219\n",
      " 0.78368977 0.78099694 0.7938019  0.79918765 0.78676743 0.74989133\n",
      " 0.73895489 0.72719412 0.72680947 0.74412085 0.72642473 0.72439135\n",
      " 0.71433424 0.69240646 0.71202606 0.71378463 0.68707564 0.69416508\n",
      " 0.68680084 0.71208098 0.71499369 0.7181812  0.73334934 0.73290968\n",
      " 0.74032881 0.74681376 0.74280194 0.74313166 0.7574204  0.77522645\n",
      " 0.78303032 0.77934822 0.79088919 0.80171562 0.7856133  0.79270269\n",
      " 0.79896778 0.8285896  0.84881369 0.83359062 0.84963801 0.83463481\n",
      " 0.82886432 0.82963372 0.84524153 0.84166928 0.85337512 0.84447214\n",
      " 0.83809712 0.81572964 0.81809283 0.82078566 0.80600233 0.81265206\n",
      " 0.8098493  0.79830832 0.80160577 0.82974365 0.84513159 0.83287623\n",
      " 0.83985569 0.82732553 0.81583957 0.82666608 0.83831691 0.84051523\n",
      " 0.8562329  0.85156153 0.86475115 0.87508307 0.86711434 0.87315954\n",
      " 0.88041389 0.86958738 0.86612507 0.88327167 0.89200979 0.9059688\n",
      " 0.91294834 0.90998071 0.89970372 0.90464989 0.89019621 0.88343653\n",
      " 0.87958957 0.90959597 0.66310394 0.6612767  0.65631384 0.64836514\n",
      " 0.63793296 0.62563467 0.61207074 0.59776026]\n",
      "8 day output [[0.5831195]]\n",
      "9 day input [0.81479538 0.81204754 0.80556267 0.78511871 0.77429219 0.78368977\n",
      " 0.78099694 0.7938019  0.79918765 0.78676743 0.74989133 0.73895489\n",
      " 0.72719412 0.72680947 0.74412085 0.72642473 0.72439135 0.71433424\n",
      " 0.69240646 0.71202606 0.71378463 0.68707564 0.69416508 0.68680084\n",
      " 0.71208098 0.71499369 0.7181812  0.73334934 0.73290968 0.74032881\n",
      " 0.74681376 0.74280194 0.74313166 0.7574204  0.77522645 0.78303032\n",
      " 0.77934822 0.79088919 0.80171562 0.7856133  0.79270269 0.79896778\n",
      " 0.8285896  0.84881369 0.83359062 0.84963801 0.83463481 0.82886432\n",
      " 0.82963372 0.84524153 0.84166928 0.85337512 0.84447214 0.83809712\n",
      " 0.81572964 0.81809283 0.82078566 0.80600233 0.81265206 0.8098493\n",
      " 0.79830832 0.80160577 0.82974365 0.84513159 0.83287623 0.83985569\n",
      " 0.82732553 0.81583957 0.82666608 0.83831691 0.84051523 0.8562329\n",
      " 0.85156153 0.86475115 0.87508307 0.86711434 0.87315954 0.88041389\n",
      " 0.86958738 0.86612507 0.88327167 0.89200979 0.9059688  0.91294834\n",
      " 0.90998071 0.89970372 0.90464989 0.89019621 0.88343653 0.87958957\n",
      " 0.90959597 0.66310394 0.6612767  0.65631384 0.64836514 0.63793296\n",
      " 0.62563467 0.61207074 0.59776026 0.58311951]\n",
      "9 day output [[0.56846064]]\n",
      "10 day input [0.81204754 0.80556267 0.78511871 0.77429219 0.78368977 0.78099694\n",
      " 0.7938019  0.79918765 0.78676743 0.74989133 0.73895489 0.72719412\n",
      " 0.72680947 0.74412085 0.72642473 0.72439135 0.71433424 0.69240646\n",
      " 0.71202606 0.71378463 0.68707564 0.69416508 0.68680084 0.71208098\n",
      " 0.71499369 0.7181812  0.73334934 0.73290968 0.74032881 0.74681376\n",
      " 0.74280194 0.74313166 0.7574204  0.77522645 0.78303032 0.77934822\n",
      " 0.79088919 0.80171562 0.7856133  0.79270269 0.79896778 0.8285896\n",
      " 0.84881369 0.83359062 0.84963801 0.83463481 0.82886432 0.82963372\n",
      " 0.84524153 0.84166928 0.85337512 0.84447214 0.83809712 0.81572964\n",
      " 0.81809283 0.82078566 0.80600233 0.81265206 0.8098493  0.79830832\n",
      " 0.80160577 0.82974365 0.84513159 0.83287623 0.83985569 0.82732553\n",
      " 0.81583957 0.82666608 0.83831691 0.84051523 0.8562329  0.85156153\n",
      " 0.86475115 0.87508307 0.86711434 0.87315954 0.88041389 0.86958738\n",
      " 0.86612507 0.88327167 0.89200979 0.9059688  0.91294834 0.90998071\n",
      " 0.89970372 0.90464989 0.89019621 0.88343653 0.87958957 0.90959597\n",
      " 0.66310394 0.6612767  0.65631384 0.64836514 0.63793296 0.62563467\n",
      " 0.61207074 0.59776026 0.58311951 0.56846064]\n",
      "10 day output [[0.5540043]]\n",
      "11 day input [0.80556267 0.78511871 0.77429219 0.78368977 0.78099694 0.7938019\n",
      " 0.79918765 0.78676743 0.74989133 0.73895489 0.72719412 0.72680947\n",
      " 0.74412085 0.72642473 0.72439135 0.71433424 0.69240646 0.71202606\n",
      " 0.71378463 0.68707564 0.69416508 0.68680084 0.71208098 0.71499369\n",
      " 0.7181812  0.73334934 0.73290968 0.74032881 0.74681376 0.74280194\n",
      " 0.74313166 0.7574204  0.77522645 0.78303032 0.77934822 0.79088919\n",
      " 0.80171562 0.7856133  0.79270269 0.79896778 0.8285896  0.84881369\n",
      " 0.83359062 0.84963801 0.83463481 0.82886432 0.82963372 0.84524153\n",
      " 0.84166928 0.85337512 0.84447214 0.83809712 0.81572964 0.81809283\n",
      " 0.82078566 0.80600233 0.81265206 0.8098493  0.79830832 0.80160577\n",
      " 0.82974365 0.84513159 0.83287623 0.83985569 0.82732553 0.81583957\n",
      " 0.82666608 0.83831691 0.84051523 0.8562329  0.85156153 0.86475115\n",
      " 0.87508307 0.86711434 0.87315954 0.88041389 0.86958738 0.86612507\n",
      " 0.88327167 0.89200979 0.9059688  0.91294834 0.90998071 0.89970372\n",
      " 0.90464989 0.89019621 0.88343653 0.87958957 0.90959597 0.66310394\n",
      " 0.6612767  0.65631384 0.64836514 0.63793296 0.62563467 0.61207074\n",
      " 0.59776026 0.58311951 0.56846064 0.55400431]\n",
      "11 day output [[0.5398963]]\n",
      "12 day input [0.78511871 0.77429219 0.78368977 0.78099694 0.7938019  0.79918765\n",
      " 0.78676743 0.74989133 0.73895489 0.72719412 0.72680947 0.74412085\n",
      " 0.72642473 0.72439135 0.71433424 0.69240646 0.71202606 0.71378463\n",
      " 0.68707564 0.69416508 0.68680084 0.71208098 0.71499369 0.7181812\n",
      " 0.73334934 0.73290968 0.74032881 0.74681376 0.74280194 0.74313166\n",
      " 0.7574204  0.77522645 0.78303032 0.77934822 0.79088919 0.80171562\n",
      " 0.7856133  0.79270269 0.79896778 0.8285896  0.84881369 0.83359062\n",
      " 0.84963801 0.83463481 0.82886432 0.82963372 0.84524153 0.84166928\n",
      " 0.85337512 0.84447214 0.83809712 0.81572964 0.81809283 0.82078566\n",
      " 0.80600233 0.81265206 0.8098493  0.79830832 0.80160577 0.82974365\n",
      " 0.84513159 0.83287623 0.83985569 0.82732553 0.81583957 0.82666608\n",
      " 0.83831691 0.84051523 0.8562329  0.85156153 0.86475115 0.87508307\n",
      " 0.86711434 0.87315954 0.88041389 0.86958738 0.86612507 0.88327167\n",
      " 0.89200979 0.9059688  0.91294834 0.90998071 0.89970372 0.90464989\n",
      " 0.89019621 0.88343653 0.87958957 0.90959597 0.66310394 0.6612767\n",
      " 0.65631384 0.64836514 0.63793296 0.62563467 0.61207074 0.59776026\n",
      " 0.58311951 0.56846064 0.55400431 0.53989631]\n",
      "12 day output [[0.52622473]]\n",
      "13 day input [0.77429219 0.78368977 0.78099694 0.7938019  0.79918765 0.78676743\n",
      " 0.74989133 0.73895489 0.72719412 0.72680947 0.74412085 0.72642473\n",
      " 0.72439135 0.71433424 0.69240646 0.71202606 0.71378463 0.68707564\n",
      " 0.69416508 0.68680084 0.71208098 0.71499369 0.7181812  0.73334934\n",
      " 0.73290968 0.74032881 0.74681376 0.74280194 0.74313166 0.7574204\n",
      " 0.77522645 0.78303032 0.77934822 0.79088919 0.80171562 0.7856133\n",
      " 0.79270269 0.79896778 0.8285896  0.84881369 0.83359062 0.84963801\n",
      " 0.83463481 0.82886432 0.82963372 0.84524153 0.84166928 0.85337512\n",
      " 0.84447214 0.83809712 0.81572964 0.81809283 0.82078566 0.80600233\n",
      " 0.81265206 0.8098493  0.79830832 0.80160577 0.82974365 0.84513159\n",
      " 0.83287623 0.83985569 0.82732553 0.81583957 0.82666608 0.83831691\n",
      " 0.84051523 0.8562329  0.85156153 0.86475115 0.87508307 0.86711434\n",
      " 0.87315954 0.88041389 0.86958738 0.86612507 0.88327167 0.89200979\n",
      " 0.9059688  0.91294834 0.90998071 0.89970372 0.90464989 0.89019621\n",
      " 0.88343653 0.87958957 0.90959597 0.66310394 0.6612767  0.65631384\n",
      " 0.64836514 0.63793296 0.62563467 0.61207074 0.59776026 0.58311951\n",
      " 0.56846064 0.55400431 0.53989631 0.52622473]\n",
      "13 day output [[0.5130351]]\n",
      "14 day input [0.78368977 0.78099694 0.7938019  0.79918765 0.78676743 0.74989133\n",
      " 0.73895489 0.72719412 0.72680947 0.74412085 0.72642473 0.72439135\n",
      " 0.71433424 0.69240646 0.71202606 0.71378463 0.68707564 0.69416508\n",
      " 0.68680084 0.71208098 0.71499369 0.7181812  0.73334934 0.73290968\n",
      " 0.74032881 0.74681376 0.74280194 0.74313166 0.7574204  0.77522645\n",
      " 0.78303032 0.77934822 0.79088919 0.80171562 0.7856133  0.79270269\n",
      " 0.79896778 0.8285896  0.84881369 0.83359062 0.84963801 0.83463481\n",
      " 0.82886432 0.82963372 0.84524153 0.84166928 0.85337512 0.84447214\n",
      " 0.83809712 0.81572964 0.81809283 0.82078566 0.80600233 0.81265206\n",
      " 0.8098493  0.79830832 0.80160577 0.82974365 0.84513159 0.83287623\n",
      " 0.83985569 0.82732553 0.81583957 0.82666608 0.83831691 0.84051523\n",
      " 0.8562329  0.85156153 0.86475115 0.87508307 0.86711434 0.87315954\n",
      " 0.88041389 0.86958738 0.86612507 0.88327167 0.89200979 0.9059688\n",
      " 0.91294834 0.90998071 0.89970372 0.90464989 0.89019621 0.88343653\n",
      " 0.87958957 0.90959597 0.66310394 0.6612767  0.65631384 0.64836514\n",
      " 0.63793296 0.62563467 0.61207074 0.59776026 0.58311951 0.56846064\n",
      " 0.55400431 0.53989631 0.52622473 0.51303512]\n",
      "14 day output [[0.50034404]]\n",
      "15 day input [0.78099694 0.7938019  0.79918765 0.78676743 0.74989133 0.73895489\n",
      " 0.72719412 0.72680947 0.74412085 0.72642473 0.72439135 0.71433424\n",
      " 0.69240646 0.71202606 0.71378463 0.68707564 0.69416508 0.68680084\n",
      " 0.71208098 0.71499369 0.7181812  0.73334934 0.73290968 0.74032881\n",
      " 0.74681376 0.74280194 0.74313166 0.7574204  0.77522645 0.78303032\n",
      " 0.77934822 0.79088919 0.80171562 0.7856133  0.79270269 0.79896778\n",
      " 0.8285896  0.84881369 0.83359062 0.84963801 0.83463481 0.82886432\n",
      " 0.82963372 0.84524153 0.84166928 0.85337512 0.84447214 0.83809712\n",
      " 0.81572964 0.81809283 0.82078566 0.80600233 0.81265206 0.8098493\n",
      " 0.79830832 0.80160577 0.82974365 0.84513159 0.83287623 0.83985569\n",
      " 0.82732553 0.81583957 0.82666608 0.83831691 0.84051523 0.8562329\n",
      " 0.85156153 0.86475115 0.87508307 0.86711434 0.87315954 0.88041389\n",
      " 0.86958738 0.86612507 0.88327167 0.89200979 0.9059688  0.91294834\n",
      " 0.90998071 0.89970372 0.90464989 0.89019621 0.88343653 0.87958957\n",
      " 0.90959597 0.66310394 0.6612767  0.65631384 0.64836514 0.63793296\n",
      " 0.62563467 0.61207074 0.59776026 0.58311951 0.56846064 0.55400431\n",
      " 0.53989631 0.52622473 0.51303512 0.50034404]\n",
      "15 day output [[0.48814896]]\n",
      "16 day input [0.7938019  0.79918765 0.78676743 0.74989133 0.73895489 0.72719412\n",
      " 0.72680947 0.74412085 0.72642473 0.72439135 0.71433424 0.69240646\n",
      " 0.71202606 0.71378463 0.68707564 0.69416508 0.68680084 0.71208098\n",
      " 0.71499369 0.7181812  0.73334934 0.73290968 0.74032881 0.74681376\n",
      " 0.74280194 0.74313166 0.7574204  0.77522645 0.78303032 0.77934822\n",
      " 0.79088919 0.80171562 0.7856133  0.79270269 0.79896778 0.8285896\n",
      " 0.84881369 0.83359062 0.84963801 0.83463481 0.82886432 0.82963372\n",
      " 0.84524153 0.84166928 0.85337512 0.84447214 0.83809712 0.81572964\n",
      " 0.81809283 0.82078566 0.80600233 0.81265206 0.8098493  0.79830832\n",
      " 0.80160577 0.82974365 0.84513159 0.83287623 0.83985569 0.82732553\n",
      " 0.81583957 0.82666608 0.83831691 0.84051523 0.8562329  0.85156153\n",
      " 0.86475115 0.87508307 0.86711434 0.87315954 0.88041389 0.86958738\n",
      " 0.86612507 0.88327167 0.89200979 0.9059688  0.91294834 0.90998071\n",
      " 0.89970372 0.90464989 0.89019621 0.88343653 0.87958957 0.90959597\n",
      " 0.66310394 0.6612767  0.65631384 0.64836514 0.63793296 0.62563467\n",
      " 0.61207074 0.59776026 0.58311951 0.56846064 0.55400431 0.53989631\n",
      " 0.52622473 0.51303512 0.50034404 0.48814896]\n",
      "16 day output [[0.4764357]]\n",
      "17 day input [0.79918765 0.78676743 0.74989133 0.73895489 0.72719412 0.72680947\n",
      " 0.74412085 0.72642473 0.72439135 0.71433424 0.69240646 0.71202606\n",
      " 0.71378463 0.68707564 0.69416508 0.68680084 0.71208098 0.71499369\n",
      " 0.7181812  0.73334934 0.73290968 0.74032881 0.74681376 0.74280194\n",
      " 0.74313166 0.7574204  0.77522645 0.78303032 0.77934822 0.79088919\n",
      " 0.80171562 0.7856133  0.79270269 0.79896778 0.8285896  0.84881369\n",
      " 0.83359062 0.84963801 0.83463481 0.82886432 0.82963372 0.84524153\n",
      " 0.84166928 0.85337512 0.84447214 0.83809712 0.81572964 0.81809283\n",
      " 0.82078566 0.80600233 0.81265206 0.8098493  0.79830832 0.80160577\n",
      " 0.82974365 0.84513159 0.83287623 0.83985569 0.82732553 0.81583957\n",
      " 0.82666608 0.83831691 0.84051523 0.8562329  0.85156153 0.86475115\n",
      " 0.87508307 0.86711434 0.87315954 0.88041389 0.86958738 0.86612507\n",
      " 0.88327167 0.89200979 0.9059688  0.91294834 0.90998071 0.89970372\n",
      " 0.90464989 0.89019621 0.88343653 0.87958957 0.90959597 0.66310394\n",
      " 0.6612767  0.65631384 0.64836514 0.63793296 0.62563467 0.61207074\n",
      " 0.59776026 0.58311951 0.56846064 0.55400431 0.53989631 0.52622473\n",
      " 0.51303512 0.50034404 0.48814896 0.47643569]\n",
      "17 day output [[0.4651843]]\n",
      "18 day input [0.78676743 0.74989133 0.73895489 0.72719412 0.72680947 0.74412085\n",
      " 0.72642473 0.72439135 0.71433424 0.69240646 0.71202606 0.71378463\n",
      " 0.68707564 0.69416508 0.68680084 0.71208098 0.71499369 0.7181812\n",
      " 0.73334934 0.73290968 0.74032881 0.74681376 0.74280194 0.74313166\n",
      " 0.7574204  0.77522645 0.78303032 0.77934822 0.79088919 0.80171562\n",
      " 0.7856133  0.79270269 0.79896778 0.8285896  0.84881369 0.83359062\n",
      " 0.84963801 0.83463481 0.82886432 0.82963372 0.84524153 0.84166928\n",
      " 0.85337512 0.84447214 0.83809712 0.81572964 0.81809283 0.82078566\n",
      " 0.80600233 0.81265206 0.8098493  0.79830832 0.80160577 0.82974365\n",
      " 0.84513159 0.83287623 0.83985569 0.82732553 0.81583957 0.82666608\n",
      " 0.83831691 0.84051523 0.8562329  0.85156153 0.86475115 0.87508307\n",
      " 0.86711434 0.87315954 0.88041389 0.86958738 0.86612507 0.88327167\n",
      " 0.89200979 0.9059688  0.91294834 0.90998071 0.89970372 0.90464989\n",
      " 0.89019621 0.88343653 0.87958957 0.90959597 0.66310394 0.6612767\n",
      " 0.65631384 0.64836514 0.63793296 0.62563467 0.61207074 0.59776026\n",
      " 0.58311951 0.56846064 0.55400431 0.53989631 0.52622473 0.51303512\n",
      " 0.50034404 0.48814896 0.47643569 0.4651843 ]\n",
      "18 day output [[0.45437154]]\n",
      "19 day input [0.74989133 0.73895489 0.72719412 0.72680947 0.74412085 0.72642473\n",
      " 0.72439135 0.71433424 0.69240646 0.71202606 0.71378463 0.68707564\n",
      " 0.69416508 0.68680084 0.71208098 0.71499369 0.7181812  0.73334934\n",
      " 0.73290968 0.74032881 0.74681376 0.74280194 0.74313166 0.7574204\n",
      " 0.77522645 0.78303032 0.77934822 0.79088919 0.80171562 0.7856133\n",
      " 0.79270269 0.79896778 0.8285896  0.84881369 0.83359062 0.84963801\n",
      " 0.83463481 0.82886432 0.82963372 0.84524153 0.84166928 0.85337512\n",
      " 0.84447214 0.83809712 0.81572964 0.81809283 0.82078566 0.80600233\n",
      " 0.81265206 0.8098493  0.79830832 0.80160577 0.82974365 0.84513159\n",
      " 0.83287623 0.83985569 0.82732553 0.81583957 0.82666608 0.83831691\n",
      " 0.84051523 0.8562329  0.85156153 0.86475115 0.87508307 0.86711434\n",
      " 0.87315954 0.88041389 0.86958738 0.86612507 0.88327167 0.89200979\n",
      " 0.9059688  0.91294834 0.90998071 0.89970372 0.90464989 0.89019621\n",
      " 0.88343653 0.87958957 0.90959597 0.66310394 0.6612767  0.65631384\n",
      " 0.64836514 0.63793296 0.62563467 0.61207074 0.59776026 0.58311951\n",
      " 0.56846064 0.55400431 0.53989631 0.52622473 0.51303512 0.50034404\n",
      " 0.48814896 0.47643569 0.4651843  0.45437154]\n",
      "19 day output [[0.44397396]]\n",
      "20 day input [0.73895489 0.72719412 0.72680947 0.74412085 0.72642473 0.72439135\n",
      " 0.71433424 0.69240646 0.71202606 0.71378463 0.68707564 0.69416508\n",
      " 0.68680084 0.71208098 0.71499369 0.7181812  0.73334934 0.73290968\n",
      " 0.74032881 0.74681376 0.74280194 0.74313166 0.7574204  0.77522645\n",
      " 0.78303032 0.77934822 0.79088919 0.80171562 0.7856133  0.79270269\n",
      " 0.79896778 0.8285896  0.84881369 0.83359062 0.84963801 0.83463481\n",
      " 0.82886432 0.82963372 0.84524153 0.84166928 0.85337512 0.84447214\n",
      " 0.83809712 0.81572964 0.81809283 0.82078566 0.80600233 0.81265206\n",
      " 0.8098493  0.79830832 0.80160577 0.82974365 0.84513159 0.83287623\n",
      " 0.83985569 0.82732553 0.81583957 0.82666608 0.83831691 0.84051523\n",
      " 0.8562329  0.85156153 0.86475115 0.87508307 0.86711434 0.87315954\n",
      " 0.88041389 0.86958738 0.86612507 0.88327167 0.89200979 0.9059688\n",
      " 0.91294834 0.90998071 0.89970372 0.90464989 0.89019621 0.88343653\n",
      " 0.87958957 0.90959597 0.66310394 0.6612767  0.65631384 0.64836514\n",
      " 0.63793296 0.62563467 0.61207074 0.59776026 0.58311951 0.56846064\n",
      " 0.55400431 0.53989631 0.52622473 0.51303512 0.50034404 0.48814896\n",
      " 0.47643569 0.4651843  0.45437154 0.44397396]\n",
      "20 day output [[0.43396884]]\n",
      "21 day input [0.72719412 0.72680947 0.74412085 0.72642473 0.72439135 0.71433424\n",
      " 0.69240646 0.71202606 0.71378463 0.68707564 0.69416508 0.68680084\n",
      " 0.71208098 0.71499369 0.7181812  0.73334934 0.73290968 0.74032881\n",
      " 0.74681376 0.74280194 0.74313166 0.7574204  0.77522645 0.78303032\n",
      " 0.77934822 0.79088919 0.80171562 0.7856133  0.79270269 0.79896778\n",
      " 0.8285896  0.84881369 0.83359062 0.84963801 0.83463481 0.82886432\n",
      " 0.82963372 0.84524153 0.84166928 0.85337512 0.84447214 0.83809712\n",
      " 0.81572964 0.81809283 0.82078566 0.80600233 0.81265206 0.8098493\n",
      " 0.79830832 0.80160577 0.82974365 0.84513159 0.83287623 0.83985569\n",
      " 0.82732553 0.81583957 0.82666608 0.83831691 0.84051523 0.8562329\n",
      " 0.85156153 0.86475115 0.87508307 0.86711434 0.87315954 0.88041389\n",
      " 0.86958738 0.86612507 0.88327167 0.89200979 0.9059688  0.91294834\n",
      " 0.90998071 0.89970372 0.90464989 0.89019621 0.88343653 0.87958957\n",
      " 0.90959597 0.66310394 0.6612767  0.65631384 0.64836514 0.63793296\n",
      " 0.62563467 0.61207074 0.59776026 0.58311951 0.56846064 0.55400431\n",
      " 0.53989631 0.52622473 0.51303512 0.50034404 0.48814896 0.47643569\n",
      " 0.4651843  0.45437154 0.44397396 0.43396884]\n",
      "21 day output [[0.42433468]]\n",
      "22 day input [0.72680947 0.74412085 0.72642473 0.72439135 0.71433424 0.69240646\n",
      " 0.71202606 0.71378463 0.68707564 0.69416508 0.68680084 0.71208098\n",
      " 0.71499369 0.7181812  0.73334934 0.73290968 0.74032881 0.74681376\n",
      " 0.74280194 0.74313166 0.7574204  0.77522645 0.78303032 0.77934822\n",
      " 0.79088919 0.80171562 0.7856133  0.79270269 0.79896778 0.8285896\n",
      " 0.84881369 0.83359062 0.84963801 0.83463481 0.82886432 0.82963372\n",
      " 0.84524153 0.84166928 0.85337512 0.84447214 0.83809712 0.81572964\n",
      " 0.81809283 0.82078566 0.80600233 0.81265206 0.8098493  0.79830832\n",
      " 0.80160577 0.82974365 0.84513159 0.83287623 0.83985569 0.82732553\n",
      " 0.81583957 0.82666608 0.83831691 0.84051523 0.8562329  0.85156153\n",
      " 0.86475115 0.87508307 0.86711434 0.87315954 0.88041389 0.86958738\n",
      " 0.86612507 0.88327167 0.89200979 0.9059688  0.91294834 0.90998071\n",
      " 0.89970372 0.90464989 0.89019621 0.88343653 0.87958957 0.90959597\n",
      " 0.66310394 0.6612767  0.65631384 0.64836514 0.63793296 0.62563467\n",
      " 0.61207074 0.59776026 0.58311951 0.56846064 0.55400431 0.53989631\n",
      " 0.52622473 0.51303512 0.50034404 0.48814896 0.47643569 0.4651843\n",
      " 0.45437154 0.44397396 0.43396884 0.42433468]\n",
      "22 day output [[0.41505182]]\n",
      "23 day input [0.74412085 0.72642473 0.72439135 0.71433424 0.69240646 0.71202606\n",
      " 0.71378463 0.68707564 0.69416508 0.68680084 0.71208098 0.71499369\n",
      " 0.7181812  0.73334934 0.73290968 0.74032881 0.74681376 0.74280194\n",
      " 0.74313166 0.7574204  0.77522645 0.78303032 0.77934822 0.79088919\n",
      " 0.80171562 0.7856133  0.79270269 0.79896778 0.8285896  0.84881369\n",
      " 0.83359062 0.84963801 0.83463481 0.82886432 0.82963372 0.84524153\n",
      " 0.84166928 0.85337512 0.84447214 0.83809712 0.81572964 0.81809283\n",
      " 0.82078566 0.80600233 0.81265206 0.8098493  0.79830832 0.80160577\n",
      " 0.82974365 0.84513159 0.83287623 0.83985569 0.82732553 0.81583957\n",
      " 0.82666608 0.83831691 0.84051523 0.8562329  0.85156153 0.86475115\n",
      " 0.87508307 0.86711434 0.87315954 0.88041389 0.86958738 0.86612507\n",
      " 0.88327167 0.89200979 0.9059688  0.91294834 0.90998071 0.89970372\n",
      " 0.90464989 0.89019621 0.88343653 0.87958957 0.90959597 0.66310394\n",
      " 0.6612767  0.65631384 0.64836514 0.63793296 0.62563467 0.61207074\n",
      " 0.59776026 0.58311951 0.56846064 0.55400431 0.53989631 0.52622473\n",
      " 0.51303512 0.50034404 0.48814896 0.47643569 0.4651843  0.45437154\n",
      " 0.44397396 0.43396884 0.42433468 0.41505182]\n",
      "23 day output [[0.40610188]]\n",
      "24 day input [0.72642473 0.72439135 0.71433424 0.69240646 0.71202606 0.71378463\n",
      " 0.68707564 0.69416508 0.68680084 0.71208098 0.71499369 0.7181812\n",
      " 0.73334934 0.73290968 0.74032881 0.74681376 0.74280194 0.74313166\n",
      " 0.7574204  0.77522645 0.78303032 0.77934822 0.79088919 0.80171562\n",
      " 0.7856133  0.79270269 0.79896778 0.8285896  0.84881369 0.83359062\n",
      " 0.84963801 0.83463481 0.82886432 0.82963372 0.84524153 0.84166928\n",
      " 0.85337512 0.84447214 0.83809712 0.81572964 0.81809283 0.82078566\n",
      " 0.80600233 0.81265206 0.8098493  0.79830832 0.80160577 0.82974365\n",
      " 0.84513159 0.83287623 0.83985569 0.82732553 0.81583957 0.82666608\n",
      " 0.83831691 0.84051523 0.8562329  0.85156153 0.86475115 0.87508307\n",
      " 0.86711434 0.87315954 0.88041389 0.86958738 0.86612507 0.88327167\n",
      " 0.89200979 0.9059688  0.91294834 0.90998071 0.89970372 0.90464989\n",
      " 0.89019621 0.88343653 0.87958957 0.90959597 0.66310394 0.6612767\n",
      " 0.65631384 0.64836514 0.63793296 0.62563467 0.61207074 0.59776026\n",
      " 0.58311951 0.56846064 0.55400431 0.53989631 0.52622473 0.51303512\n",
      " 0.50034404 0.48814896 0.47643569 0.4651843  0.45437154 0.44397396\n",
      " 0.43396884 0.42433468 0.41505182 0.40610188]\n",
      "24 day output [[0.39746815]]\n",
      "25 day input [0.72439135 0.71433424 0.69240646 0.71202606 0.71378463 0.68707564\n",
      " 0.69416508 0.68680084 0.71208098 0.71499369 0.7181812  0.73334934\n",
      " 0.73290968 0.74032881 0.74681376 0.74280194 0.74313166 0.7574204\n",
      " 0.77522645 0.78303032 0.77934822 0.79088919 0.80171562 0.7856133\n",
      " 0.79270269 0.79896778 0.8285896  0.84881369 0.83359062 0.84963801\n",
      " 0.83463481 0.82886432 0.82963372 0.84524153 0.84166928 0.85337512\n",
      " 0.84447214 0.83809712 0.81572964 0.81809283 0.82078566 0.80600233\n",
      " 0.81265206 0.8098493  0.79830832 0.80160577 0.82974365 0.84513159\n",
      " 0.83287623 0.83985569 0.82732553 0.81583957 0.82666608 0.83831691\n",
      " 0.84051523 0.8562329  0.85156153 0.86475115 0.87508307 0.86711434\n",
      " 0.87315954 0.88041389 0.86958738 0.86612507 0.88327167 0.89200979\n",
      " 0.9059688  0.91294834 0.90998071 0.89970372 0.90464989 0.89019621\n",
      " 0.88343653 0.87958957 0.90959597 0.66310394 0.6612767  0.65631384\n",
      " 0.64836514 0.63793296 0.62563467 0.61207074 0.59776026 0.58311951\n",
      " 0.56846064 0.55400431 0.53989631 0.52622473 0.51303512 0.50034404\n",
      " 0.48814896 0.47643569 0.4651843  0.45437154 0.44397396 0.43396884\n",
      " 0.42433468 0.41505182 0.40610188 0.39746815]\n",
      "25 day output [[0.38913524]]\n",
      "26 day input [0.71433424 0.69240646 0.71202606 0.71378463 0.68707564 0.69416508\n",
      " 0.68680084 0.71208098 0.71499369 0.7181812  0.73334934 0.73290968\n",
      " 0.74032881 0.74681376 0.74280194 0.74313166 0.7574204  0.77522645\n",
      " 0.78303032 0.77934822 0.79088919 0.80171562 0.7856133  0.79270269\n",
      " 0.79896778 0.8285896  0.84881369 0.83359062 0.84963801 0.83463481\n",
      " 0.82886432 0.82963372 0.84524153 0.84166928 0.85337512 0.84447214\n",
      " 0.83809712 0.81572964 0.81809283 0.82078566 0.80600233 0.81265206\n",
      " 0.8098493  0.79830832 0.80160577 0.82974365 0.84513159 0.83287623\n",
      " 0.83985569 0.82732553 0.81583957 0.82666608 0.83831691 0.84051523\n",
      " 0.8562329  0.85156153 0.86475115 0.87508307 0.86711434 0.87315954\n",
      " 0.88041389 0.86958738 0.86612507 0.88327167 0.89200979 0.9059688\n",
      " 0.91294834 0.90998071 0.89970372 0.90464989 0.89019621 0.88343653\n",
      " 0.87958957 0.90959597 0.66310394 0.6612767  0.65631384 0.64836514\n",
      " 0.63793296 0.62563467 0.61207074 0.59776026 0.58311951 0.56846064\n",
      " 0.55400431 0.53989631 0.52622473 0.51303512 0.50034404 0.48814896\n",
      " 0.47643569 0.4651843  0.45437154 0.44397396 0.43396884 0.42433468\n",
      " 0.41505182 0.40610188 0.39746815 0.38913524]\n",
      "26 day output [[0.38108855]]\n",
      "27 day input [0.69240646 0.71202606 0.71378463 0.68707564 0.69416508 0.68680084\n",
      " 0.71208098 0.71499369 0.7181812  0.73334934 0.73290968 0.74032881\n",
      " 0.74681376 0.74280194 0.74313166 0.7574204  0.77522645 0.78303032\n",
      " 0.77934822 0.79088919 0.80171562 0.7856133  0.79270269 0.79896778\n",
      " 0.8285896  0.84881369 0.83359062 0.84963801 0.83463481 0.82886432\n",
      " 0.82963372 0.84524153 0.84166928 0.85337512 0.84447214 0.83809712\n",
      " 0.81572964 0.81809283 0.82078566 0.80600233 0.81265206 0.8098493\n",
      " 0.79830832 0.80160577 0.82974365 0.84513159 0.83287623 0.83985569\n",
      " 0.82732553 0.81583957 0.82666608 0.83831691 0.84051523 0.8562329\n",
      " 0.85156153 0.86475115 0.87508307 0.86711434 0.87315954 0.88041389\n",
      " 0.86958738 0.86612507 0.88327167 0.89200979 0.9059688  0.91294834\n",
      " 0.90998071 0.89970372 0.90464989 0.89019621 0.88343653 0.87958957\n",
      " 0.90959597 0.66310394 0.6612767  0.65631384 0.64836514 0.63793296\n",
      " 0.62563467 0.61207074 0.59776026 0.58311951 0.56846064 0.55400431\n",
      " 0.53989631 0.52622473 0.51303512 0.50034404 0.48814896 0.47643569\n",
      " 0.4651843  0.45437154 0.44397396 0.43396884 0.42433468 0.41505182\n",
      " 0.40610188 0.39746815 0.38913524 0.38108855]\n",
      "27 day output [[0.37331483]]\n",
      "28 day input [0.71202606 0.71378463 0.68707564 0.69416508 0.68680084 0.71208098\n",
      " 0.71499369 0.7181812  0.73334934 0.73290968 0.74032881 0.74681376\n",
      " 0.74280194 0.74313166 0.7574204  0.77522645 0.78303032 0.77934822\n",
      " 0.79088919 0.80171562 0.7856133  0.79270269 0.79896778 0.8285896\n",
      " 0.84881369 0.83359062 0.84963801 0.83463481 0.82886432 0.82963372\n",
      " 0.84524153 0.84166928 0.85337512 0.84447214 0.83809712 0.81572964\n",
      " 0.81809283 0.82078566 0.80600233 0.81265206 0.8098493  0.79830832\n",
      " 0.80160577 0.82974365 0.84513159 0.83287623 0.83985569 0.82732553\n",
      " 0.81583957 0.82666608 0.83831691 0.84051523 0.8562329  0.85156153\n",
      " 0.86475115 0.87508307 0.86711434 0.87315954 0.88041389 0.86958738\n",
      " 0.86612507 0.88327167 0.89200979 0.9059688  0.91294834 0.90998071\n",
      " 0.89970372 0.90464989 0.89019621 0.88343653 0.87958957 0.90959597\n",
      " 0.66310394 0.6612767  0.65631384 0.64836514 0.63793296 0.62563467\n",
      " 0.61207074 0.59776026 0.58311951 0.56846064 0.55400431 0.53989631\n",
      " 0.52622473 0.51303512 0.50034404 0.48814896 0.47643569 0.4651843\n",
      " 0.45437154 0.44397396 0.43396884 0.42433468 0.41505182 0.40610188\n",
      " 0.39746815 0.38913524 0.38108855 0.37331483]\n",
      "28 day output [[0.36580133]]\n",
      "29 day input [0.71378463 0.68707564 0.69416508 0.68680084 0.71208098 0.71499369\n",
      " 0.7181812  0.73334934 0.73290968 0.74032881 0.74681376 0.74280194\n",
      " 0.74313166 0.7574204  0.77522645 0.78303032 0.77934822 0.79088919\n",
      " 0.80171562 0.7856133  0.79270269 0.79896778 0.8285896  0.84881369\n",
      " 0.83359062 0.84963801 0.83463481 0.82886432 0.82963372 0.84524153\n",
      " 0.84166928 0.85337512 0.84447214 0.83809712 0.81572964 0.81809283\n",
      " 0.82078566 0.80600233 0.81265206 0.8098493  0.79830832 0.80160577\n",
      " 0.82974365 0.84513159 0.83287623 0.83985569 0.82732553 0.81583957\n",
      " 0.82666608 0.83831691 0.84051523 0.8562329  0.85156153 0.86475115\n",
      " 0.87508307 0.86711434 0.87315954 0.88041389 0.86958738 0.86612507\n",
      " 0.88327167 0.89200979 0.9059688  0.91294834 0.90998071 0.89970372\n",
      " 0.90464989 0.89019621 0.88343653 0.87958957 0.90959597 0.66310394\n",
      " 0.6612767  0.65631384 0.64836514 0.63793296 0.62563467 0.61207074\n",
      " 0.59776026 0.58311951 0.56846064 0.55400431 0.53989631 0.52622473\n",
      " 0.51303512 0.50034404 0.48814896 0.47643569 0.4651843  0.45437154\n",
      " 0.44397396 0.43396884 0.42433468 0.41505182 0.40610188 0.39746815\n",
      " 0.38913524 0.38108855 0.37331483 0.36580133]\n",
      "29 day output [[0.35853642]]\n",
      "[[0.6631039381027222], [0.6612766981124878], [0.6563138365745544], [0.6483651399612427], [0.6379329562187195], [0.6256346702575684], [0.6120707392692566], [0.5977602601051331], [0.5831195116043091], [0.5684606432914734], [0.5540043115615845], [0.5398963093757629], [0.5262247323989868], [0.5130351185798645], [0.5003440380096436], [0.488148957490921], [0.47643569111824036], [0.4651843011379242], [0.45437154173851013], [0.44397395849227905], [0.43396884202957153], [0.42433467507362366], [0.41505181789398193], [0.40610188245773315], [0.3974681496620178], [0.3891352415084839], [0.3810885548591614], [0.37331482768058777], [0.3658013343811035], [0.35853642225265503]]\n"
     ]
    }
   ],
   "source": [
    "lst_output = []  # List to store the predicted outputs\n",
    "n_steps = 100  # Number of time steps for input sequence\n",
    "i = 0  # Loop counter for generating predictions\n",
    "while(i<30):\n",
    "\n",
    "    if(len(temp_array)>100):\n",
    "        # Extract the elements from temp_array starting from index 1 and convert it to a numpy array\n",
    "        plot_x_input=np.array(temp_array[1:])\n",
    "        # Print the input sequence for the current day (i)\n",
    "        print(\"{} day input {}\".format(i, plot_x_input))\n",
    "        # Reshape the input sequence to have dimensions (1, -1)\n",
    "        plot_x_input=plot_x_input.reshape(1, -1)\n",
    "        # Reshape the input sequence to have dimensions (1, n_steps, 1) to match the model's input shape\n",
    "        plot_x_input = plot_x_input.reshape((1, n_steps, 1))\n",
    "\n",
    "        # Generate the predicted output (yhat) for the input sequence using the trained model\n",
    "        yhat = model.predict(plot_x_input, verbose=0) # the predicted value (Yhat) is called the residual (e)\n",
    "\n",
    "        # Print the predicted output for the current day (i)\n",
    "        print(\"{} day output {}\".format(i,yhat))\n",
    "        # Extend temp_array with the predicted output by converting it to a list and adding it to the end\n",
    "        temp_array.extend(yhat[0].tolist())\n",
    "        # Remove the first element from temp_array\n",
    "        temp_array= temp_array[1:]\n",
    "\n",
    "        # Extend lst_output with the predicted output (yhat) by converting it to a list\n",
    "        lst_output.extend(yhat.tolist())\n",
    "        i=i+1\n",
    "\n",
    "    else:\n",
    "        # Reshape the input sequence to have dimensions (1, n_steps, 1) to match the model's input shape\n",
    "        plot_x_input = plot_x_input.reshape((1, n_steps, 1))\n",
    "        # Generate the predicted output (yhat) for the input sequence using the trained model\n",
    "        yhat = model.predict(plot_x_input, verbose=0)\n",
    "        # Print the predicted output for the current day (i)\n",
    "        print(yhat[0])\n",
    "        # Extend temp_array with the predicted output by converting it to a list and adding it to the end\n",
    "        temp_array.extend(yhat[0].tolist())\n",
    "\n",
    "        print(len(temp_array))\n",
    "\n",
    "        # Extend lst_output with the predicted output (yhat) by converting it to a list\n",
    "        lst_output.extend(yhat.tolist())\n",
    "        i=i+1\n",
    "\n",
    "\n",
    "print(lst_output)"
   ]
  },
  {
   "cell_type": "code",
   "execution_count": 25,
   "id": "af45a3e2",
   "metadata": {
    "pycharm": {
     "name": "#%%\n"
    }
   },
   "outputs": [
    {
     "data": {
      "text/plain": "10673"
     },
     "execution_count": 25,
     "metadata": {},
     "output_type": "execute_result"
    }
   ],
   "source": [
    "new_day_val = np.arange(1, 101)\n",
    "# Generate an array of integers from 1 to 100 (inclusive) and assign it to the variable\n",
    "\n",
    "pred_day_val = np.arange(101, 131)\n",
    "# Generate an array of integers from 101 to 130 (inclusive) and assign it to the variable\n",
    "\n",
    "len(data_set_close)\n",
    "# Calculate and display the length of the data_set_close array\n",
    "# The len() function returns the number of elements in the array\n"
   ]
  },
  {
   "cell_type": "code",
   "execution_count": 26,
   "id": "eb59ab8e",
   "metadata": {
    "pycharm": {
     "name": "#%%\n"
    }
   },
   "outputs": [
    {
     "data": {
      "text/plain": "[<matplotlib.lines.Line2D at 0x1a5e2b4a980>]"
     },
     "execution_count": 26,
     "metadata": {},
     "output_type": "execute_result"
    },
    {
     "data": {
      "text/plain": "<Figure size 640x480 with 1 Axes>",
      "image/png": "[encoded data removed]"
     },
     "metadata": {},
     "output_type": "display_data"
    }
   ],
   "source": [
    "plt.plot(new_day_val, scaler.inverse_transform(data_set_close[10573:]))\n",
    "plt.plot(pred_day_val, scaler.inverse_transform(lst_output))"
   ]
  },
  {
   "cell_type": "code",
   "execution_count": 27,
   "id": "78064e98",
   "metadata": {
    "pycharm": {
     "name": "#%%\n"
    }
   },
   "outputs": [
    {
     "data": {
      "text/plain": "[<matplotlib.lines.Line2D at 0x1a5e2af8280>]"
     },
     "execution_count": 27,
     "metadata": {},
     "output_type": "execute_result"
    },
    {
     "data": {
      "text/plain": "<Figure size 640x480 with 1 Axes>",
      "image/png": "[encoded data removed]"
     },
     "metadata": {},
     "output_type": "display_data"
    }
   ],
   "source": [
    "plotting_data = data_set_close.tolist()\n",
    "# Convert the data_set_close array to a Python list and assign it to the variable data\n",
    "\n",
    "plotting_data.extend(lst_output)\n",
    "# Extend the data list with the predicted outputs (lst_output)\n",
    "\n",
    "plotting_data = scaler.inverse_transform(plotting_data).tolist()\n",
    "# Invert the scaling transformation applied to the data by using the scaler's inverse_transform method\n",
    "# Convert the resulting array back to a Python list and assign it to the variable data\n",
    "\n",
    "plt.plot(plotting_data, color=\"red\")\n",
    "# Plot the data using Matplotlib, where the data points are represented by the list values\n",
    "# Set the color of the plot to red\n"
   ]
  },
  {
   "cell_type": "code",
   "execution_count": 27,
   "id": "9851c545",
   "metadata": {
    "pycharm": {
     "name": "#%%\n"
    }
   },
   "outputs": [],
   "source": []
  },
  {
   "cell_type": "code",
   "execution_count": 27,
   "id": "ce9ad24c",
   "metadata": {
    "pycharm": {
     "name": "#%%\n"
    }
   },
   "outputs": [],
   "source": []
  }
 ],
 "metadata": {
  "kernelspec": {
   "display_name": "Python 3 (ipykernel)",
   "language": "python",
   "name": "python3"
  },
  "language_info": {
   "codemirror_mode": {
    "name": "ipython",
    "version": 3
   },
   "file_extension": ".py",
   "mimetype": "text/x-python",
   "name": "python",
   "nbconvert_exporter": "python",
   "pygments_lexer": "ipython3",
   "version": "3.9.7"
  }
 },
 "nbformat": 4,
 "nbformat_minor": 5
}